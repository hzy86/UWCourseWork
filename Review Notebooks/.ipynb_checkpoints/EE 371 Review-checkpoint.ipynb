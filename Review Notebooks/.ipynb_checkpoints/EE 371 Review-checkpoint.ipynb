{
 "cells": [
  {
   "cell_type": "markdown",
   "metadata": {},
   "source": [
    "## Finite State Machine\n",
    "\n",
    "#### Design\n",
    "\n",
    " * determine states\n",
    " * determine input and output\n",
    " * draw, include all possible input combination\n",
    " \n",
    "#### In Codes\n",
    "\n",
    "\n",
    "``` verilog\n",
    "enum{s1, s2, s3, s4} ps, ns;\n",
    "always_ff @(posedge clk) begin\n",
    "    if (reset)\n",
    "        ps <= s1;\n",
    "    else\n",
    "        ps <= ns;\n",
    "end\n",
    "```"
   ]
  },
  {
   "cell_type": "markdown",
   "metadata": {},
   "source": [
    "## Memory Blocks\n",
    "\n",
    "#### RAM & ROM\n",
    "* both are randomly accessed\n",
    "* RAM is constantly refreshed\n",
    "\n",
    "#### Characteristics\n",
    "* dimension = depth x width\n",
    "    * depth = number of words\n",
    "    * width = size of a word\n",
    "* number of ports\n",
    "* synchronicity of port access\n",
    "* behavior of simultaneous address access\n",
    "\n",
    "#### In Codes\n",
    "``` verilog\n",
    "// a dual-port, synchronized read and write 1024x8 RAM\n",
    "module RAM\n",
    "#(parameter data_width = 8,\n",
    "  addr_width = 10)\n",
    "(\n",
    "input  logic clk, wr_a, wr_b,\n",
    "input  logic [addr_width - 1:0] addr_a, addr_b,\n",
    "input  logic [data_width - 1:0] din_a, din_b,\n",
    "output logic [data_width - 1:0] dout_a, dout_b\n",
    ");\n",
    "\n",
    "  logic [data_width - 1:0] RAM [0:2 ** (addr_width - 1)];\n",
    "  logic [data_width - 1:0] data_a_reg, data_b_reg;\n",
    "\n",
    "  always_ff @(posedge clk) begin\n",
    "    if (wr_a) begin\n",
    "      RAM[addr_a] <= din_a;\n",
    "      data_a_reg <= RAM[addr_a];\n",
    "    end\n",
    "  end\n",
    "\n",
    "  always_ff @(posedge clk) begin\n",
    "    if (wr_b) begin\n",
    "      RAM[addr_b] <= din_b;\n",
    "      data_b_reg <= RAM[addr_b];\n",
    "    end\n",
    "  end\n",
    "\n",
    "  assign dout_a = data_a_reg;\n",
    "  assign dout_b = data_b_reg;\n",
    "endmodule\n",
    "\n",
    "```"
   ]
  },
  {
   "cell_type": "markdown",
   "metadata": {},
   "source": [
    "## System Verilog\n",
    "\n",
    "#### Understanding\n",
    "* HDL (hardware description language) translates to the hardware connections\n",
    "* reusability - parameterize modules\n",
    "* digital design - depend on CAD or EDA (electronic design automation), which allows simulation and synthesis\n",
    "\n",
    "#### Modules\n",
    "* behavioral - assign behaviors of the module\n",
    "* structural - describes how a module is built from smaller modules\n",
    "\n",
    "#### Commenting\n",
    "* describe overall function\n",
    "* describe input and output\n",
    "* describe calling modules, their functions, inputs, and outputs\n",
    "* my standard example\n",
    "    * input - .clk (the clock)\n",
    "    * output - .dout (the data at the address)"
   ]
  },
  {
   "cell_type": "code",
   "execution_count": null,
   "metadata": {},
   "outputs": [],
   "source": []
  }
 ],
 "metadata": {
  "kernelspec": {
   "display_name": "Python 2",
   "language": "python",
   "name": "python2"
  },
  "language_info": {
   "codemirror_mode": {
    "name": "ipython",
    "version": 2
   },
   "file_extension": ".py",
   "mimetype": "text/x-python",
   "name": "python",
   "nbconvert_exporter": "python",
   "pygments_lexer": "ipython2",
   "version": "2.7.15"
  }
 },
 "nbformat": 4,
 "nbformat_minor": 2
}
