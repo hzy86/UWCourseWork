{
  "nbformat": 4,
  "nbformat_minor": 0,
  "metadata": {
    "colab": {
      "name": "EE 371 Review.ipynb",
      "version": "0.3.2",
      "provenance": [],
      "collapsed_sections": [],
      "include_colab_link": true
    },
    "language_info": {
      "codemirror_mode": {
        "name": "ipython",
        "version": 2
      },
      "file_extension": ".py",
      "mimetype": "text/x-python",
      "name": "python",
      "nbconvert_exporter": "python",
      "pygments_lexer": "ipython2",
      "version": "2.7.15"
    },
    "kernelspec": {
      "display_name": "Python 2",
      "language": "python",
      "name": "python2"
    }
  },
  "cells": [
    {
      "cell_type": "markdown",
      "metadata": {
        "id": "view-in-github",
        "colab_type": "text"
      },
      "source": [
        "<a href=\"https://colab.research.google.com/github/hzy86/UWCourseWork/blob/master/Review%20Notebooks/EE_371_Review.ipynb\" target=\"_parent\"><img src=\"https://colab.research.google.com/assets/colab-badge.svg\" alt=\"Open In Colab\"/></a>"
      ]
    },
    {
      "metadata": {
        "id": "i8f7RxYX8Bs9",
        "colab_type": "text"
      },
      "cell_type": "markdown",
      "source": [
        "## Finite State Machine\n",
        "\n",
        "#### Design\n",
        "\n",
        " * determine states\n",
        " * determine input and output\n",
        " * draw, include all possible input combination\n",
        " \n",
        "#### In Codes\n",
        "\n",
        "\n",
        "``` verilog\n",
        "enum{s1, s2, s3, s4} ps, ns;\n",
        "always_ff @(posedge clk) begin\n",
        "    if (reset)\n",
        "        ps <= s1;\n",
        "    else\n",
        "        ps <= ns;\n",
        "end\n",
        "```"
      ]
    },
    {
      "metadata": {
        "id": "vUUzUh-i8Bs-",
        "colab_type": "text"
      },
      "cell_type": "markdown",
      "source": [
        "## Memory Blocks\n",
        "\n",
        "#### RAM & ROM\n",
        "* both are randomly accessed\n",
        "* RAM is constantly refreshed\n",
        "\n",
        "#### Characteristics\n",
        "* dimension = depth x width\n",
        "    * depth = number of words\n",
        "    * width = size of a word\n",
        "* number of ports\n",
        "* synchronicity of port access\n",
        "* behavior of simultaneous address access\n",
        "\n",
        "#### In Codes\n",
        "``` verilog\n",
        "// a dual-port, synchronized read and write 1024x8 RAM\n",
        "module RAM\n",
        "#(parameter data_width = 8,\n",
        "  addr_width = 10)\n",
        "(\n",
        "input  logic clk, wr_a, wr_b,\n",
        "input  logic [addr_width - 1:0] addr_a, addr_b,\n",
        "input  logic [data_width - 1:0] din_a, din_b,\n",
        "output logic [data_width - 1:0] dout_a, dout_b\n",
        ");\n",
        "\n",
        "  logic [data_width - 1:0] RAM [0:2 ** (addr_width - 1)];\n",
        "  logic [data_width - 1:0] data_a_reg, data_b_reg;\n",
        "\n",
        "  always_ff @(posedge clk) begin\n",
        "    if (wr_a) begin\n",
        "      RAM[addr_a] <= din_a;\n",
        "      data_a_reg <= RAM[addr_a];\n",
        "    end\n",
        "  end\n",
        "\n",
        "  always_ff @(posedge clk) begin\n",
        "    if (wr_b) begin\n",
        "      RAM[addr_b] <= din_b;\n",
        "      data_b_reg <= RAM[addr_b];\n",
        "    end\n",
        "  end\n",
        "\n",
        "  assign dout_a = data_a_reg;\n",
        "  assign dout_b = data_b_reg;\n",
        "endmodule\n",
        "\n",
        "```"
      ]
    },
    {
      "metadata": {
        "id": "uBxPRtRv8Bs_",
        "colab_type": "text"
      },
      "cell_type": "markdown",
      "source": [
        "## System Verilog\n",
        "\n",
        "#### Understanding\n",
        "* HDL (hardware description language) translates to the hardware connections\n",
        "* reusability - parameterize modules\n",
        "* digital design - depend on CAD or EDA (electronic design automation), which allows simulation and synthesis\n",
        "\n",
        "#### Modules\n",
        "* behavioral - assign behaviors of the module\n",
        "* structural - describes how a module is built from smaller modules\n",
        "\n",
        "#### Commenting\n",
        "* describe overall function\n",
        "* describe input and output\n",
        "* describe calling modules, their functions, inputs, and outputs\n",
        "* my standard example\n",
        "    * input - .clk (the clock)\n",
        "    * output - .dout (the data at the address)\n",
        "    \n",
        "#### Syntax\n",
        "* concatenation\n",
        "    * {,} - concatenation operator\n",
        "    * (#{}) - replication operator {4{a}, 2{b}}"
      ]
    },
    {
      "metadata": {
        "id": "kloO7oOi8BtA",
        "colab_type": "code",
        "colab": {}
      },
      "cell_type": "code",
      "source": [
        ""
      ],
      "execution_count": 0,
      "outputs": []
    }
  ]
}