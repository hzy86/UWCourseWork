{
  "nbformat": 4,
  "nbformat_minor": 0,
  "metadata": {
    "colab": {
      "name": "ee447_hw1__huang_ziyi.ipynb",
      "version": "0.3.2",
      "provenance": [],
      "collapsed_sections": [],
      "include_colab_link": true
    },
    "kernelspec": {
      "display_name": "Python 3",
      "language": "python",
      "name": "python3"
    }
  },
  "cells": [
    {
      "cell_type": "markdown",
      "metadata": {
        "id": "view-in-github",
        "colab_type": "text"
      },
      "source": [
        "<a href=\"https://colab.research.google.com/github/hzy86/UWCourseWork/blob/master/ee447_hw1__huang_ziyi.ipynb\" target=\"_parent\"><img src=\"https://colab.research.google.com/assets/colab-badge.svg\" alt=\"Open In Colab\"/></a>"
      ]
    },
    {
      "metadata": {
        "id": "aQsIOn6IRWa9",
        "colab_type": "text"
      },
      "cell_type": "markdown",
      "source": [
        "Homework 1\n",
        "===\n",
        "Jupyter notebooks; Control System Definitions.\n",
        "\n",
        "**<span style=\"color: darkgreen\">Due Sunday April 7 at 11:59pm</span>**\n",
        "\n",
        "**Instructions:** Make a copy of this notebook that you can edit and save. If you are using CoLab, that means clicking File>Save and then \"SAVE A COPY IN DRIVE\". Then, for each problem, insert your answers directly underneath the problem description as one or more `Code` or `Markdown` cells as appropriate. Every code cell should execute without errors. TAs and graders may not have resources to debug your code. When you are satisfied with your answers, save your notebook with with the title `ee447_hw1_yourlastname_yourfirstname.ipynb` and upload it to canvas. "
      ]
    },
    {
      "metadata": {
        "id": "hdi8h_4ARWbA",
        "colab_type": "text"
      },
      "cell_type": "markdown",
      "source": [
        "**Relevant Reading**\n",
        "\n",
        "- Nise, Chapter 1. You can skim the section on MATLAB since we are using Python.\n",
        "- The [Markdown Cheatsheet](https://github.com/adam-p/markdown-here/wiki/Markdown-Cheatsheet)\n",
        "- The [Latex Equation Cheetsheet](http://tug.ctan.org/info/undergradmath/undergradmath.pdf)"
      ]
    },
    {
      "metadata": {
        "id": "Vm9WV_JCRWbC",
        "colab_type": "text"
      },
      "cell_type": "markdown",
      "source": [
        "1) Formatting Markdown Cells and Equations in Jupyter\n",
        "---\n",
        "\n",
        "Your solutions to problems in this course will often require you to enter in equations and formatted text. To begin to learn to do this, translate the paragraph starting \"Kirchhoff's and ...\" on page 16 of **Nise** into a Markdown cell using Latex Equations to represent the equation. Note the paragraph goes through the word \"subject\". Do not worry about the blue box or the equation number (1.2)."
      ]
    },
    {
      "metadata": {
        "id": "zL4wFYQkgBoX",
        "colab_type": "text"
      },
      "cell_type": "markdown",
      "source": [
        "Kirchhoff’s and Newton’s laws lead to mathematical models that describe the relationship\n",
        "between the input and output of dynamic systems. One such model is the *linear, time-invariant\n",
        "differential equation*, Eq. (1.2):\n",
        "\n",
        "$$\\frac{d^mc(t)}{dt^n}+d_{n-1}\\frac{d^{m-1}c(t)}{dt^{n-1}}+ ... +d_0c(t)=b_m\\frac{d^mr(t)}{dt^m}+b_{m-1}\\frac{d^{m-1}r(t)}{dt^{m-1}}+...+b_0r(t)$$\n",
        "\n",
        "  <p align=right> (1.2)<sup>4</sup> </p>\n",
        "\n",
        "Many systems can be approximately described by this equation, which relates the output,\n",
        "*c(t)*, to the input, *r(t)*, by way of the system parameters, $a_i$ and $b_j$. We assume the reader is\n",
        "familiar with differential equations. Problems and a bibliography are provided at the end of\n",
        "the chapter for you to review this subject."
      ]
    },
    {
      "metadata": {
        "id": "o141iCBSRWbF",
        "colab_type": "text"
      },
      "cell_type": "markdown",
      "source": [
        "2) Identifying Feedback Control Systems\n",
        "---\n",
        "\n",
        "Describe two different feedback control systems in your everyday life. Refer to figure 1.5 in Nise. Format your answer nicely in Markdown so that we can easily grade it.\n",
        "- Describe the process or plant. What are its inputs and what are its outputs?\n",
        "- What is the goal of the feedback system?\n",
        "- How is the controller implemented (electronically, with a microcontroller, etc)?\n",
        "- What are potential disturbances to the plant that the controller must account for?\n",
        "- What are potential sources of noise in the sensor?\n",
        "- What is the reference input, if any, supplied by the user?\n",
        "- What do you suppose are the most important performance requirements for the system (speed, robustness, disturbance rejection, cost)?\n",
        "\n",
        "|house thermost | phone brightness auto adjustment\n",
        "---|:---: | :---:\n",
        "process or plant | the heater | the display\n",
        "input to the process | electrical signal | power\n",
        "output of the process| heat | light\n",
        "goal of feedback system |  limit the room temperature in a comfortable range | limit the backlight brightness in a comfortable range\n",
        "controller implementation | fuel valves and the electrical system that drives it | a microcontroller\n",
        "potential disturbances | heat loss | power dissipation\n",
        "potential noise sources | outdoor temperature | shadows of passing objects\n",
        "reference input | desired temperature | desired brightness\n",
        "most important performance factor | accuracy | accuracy"
      ]
    },
    {
      "metadata": {
        "collapsed": true,
        "id": "2DRIgSKWRWbH",
        "colab_type": "text"
      },
      "cell_type": "markdown",
      "source": [
        "3) Do problem 4, 5, 6, 7, or 8 in Nise chapter 1. \n",
        "---\n",
        "\n",
        "Note that these problems require you to draw a diagram. One option for drawing is [Google Drawing](https://docs.google.com/drawings/). Once you make your diagram, save it to your Google drive and then choose \"File > Publish to the web...\". This will give you a link that you can use with the `![](url)` Markdown notation to embed the image in your Jupyter notebook.\n",
        "\n",
        "Problem 4![Problem 4](https://docs.google.com/drawings/d/e/2PACX-1vTRtDajw_lBQ3mURg9B7IX5ddZ8tk-4PexNBlN-9kZc6INVWo2npEu8yxNhC1VQbEQylc8ezBOWaIyg/pub?w=480&h=360)\n",
        "\n",
        "Problem 5![Problem 5](https://docs.google.com/drawings/d/e/2PACX-1vQlesm3mzPmqy3y05fSGhcYU_pZqBzp1RXZR9KKtbaSS1wziOJi40MaHN61kNt6SjXYHGcgTpeyhZlq/pub?w=480&h=360)\n",
        "\n",
        "Problem 6 ![Problem 6](https://docs.google.com/drawings/d/e/2PACX-1vTE4O5Y3-O0ewXEDozAlNL_dBvWaCqcAU0fXEfJdDD9UpkVdd95FdDJ75nOtkAlUC0REbYo1JEp4YD4/pub?w=480&h=360)\n",
        "\n",
        "Problem 7 ![Problem 7](https://docs.google.com/drawings/d/e/2PACX-1vRrRs8qmfkuugIblVtP7Ug3EkM-rgUAfMOY2bSxadSIpcMH_mMiLdHJZTaZs_MuDkLyoQc83EqZ4ZIQ/pub?w=480&h=360)\n",
        "\n",
        "Problem 8 ![Problem 8](https://docs.google.com/drawings/d/e/2PACX-1vSBeha9uBMjPUj-kFI--Fj_pnmaCbx3EujIHeBb37LUpu-48aqv0aL4_4XsefVx9mSD-XuzOobno99f/pub?w=480&h=360)"
      ]
    }
  ]
}